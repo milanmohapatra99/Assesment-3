{
 "cells": [
  {
   "cell_type": "code",
   "execution_count": 2,
   "id": "34eb4bdb",
   "metadata": {},
   "outputs": [
    {
     "name": "stdout",
     "output_type": "stream",
     "text": [
      "please enter a string : i am milan\n",
      "please enter a character : l\n",
      "i am mi an\n"
     ]
    }
   ],
   "source": [
    "# w.a.p to Remove character from string\n",
    "str = input(\"please enter a string : \")\n",
    "ch = input(\"please enter a character : \")\n",
    "print(str.replace(ch,\" \")) "
   ]
  },
  {
   "cell_type": "code",
   "execution_count": 3,
   "id": "2b16f4d0",
   "metadata": {},
   "outputs": [
    {
     "name": "stdout",
     "output_type": "stream",
     "text": [
      "Please enter String : seoulllccc\n",
      "Please enter a Character : l\n",
      "Total Number of occurence of  l is : 3\n"
     ]
    }
   ],
   "source": [
    "# w.a.p to count occurrence of characters in string\n",
    "string = input(\"Please enter String : \")\n",
    "char = input(\"Please enter a Character : \")\n",
    "count = 0\n",
    "for i in range(len(string)):\n",
    "    if(string[i] == char):\n",
    "        count = count + 1\n",
    "print(\"Total Number of occurence of \", char, \"is :\" , count)"
   ]
  },
  {
   "cell_type": "code",
   "execution_count": 9,
   "id": "506a45de",
   "metadata": {},
   "outputs": [
    {
     "name": "stdout",
     "output_type": "stream",
     "text": [
      "Please enter String 1 : milan\n",
      "Please enter String 2 : anmil\n",
      "Anagram\n"
     ]
    }
   ],
   "source": [
    "# w.a.p to display wheather the input string is anagram or not\n",
    "def anagramCheck(str1, str2):\n",
    "    if (sorted(str1) == sorted(str2)) :  \n",
    "        return True \n",
    "    else :  \n",
    "        return False \n",
    "str1 = input(\"Please enter String 1 : \")\n",
    "str2 = input(\"Please enter String 2 : \")\n",
    "if anagramCheck(str1,str2):\n",
    "    print(\"Anagram\")\n",
    "else:\n",
    "    print(\"Not an anagram\")    \n",
    "    "
   ]
  },
  {
   "cell_type": "code",
   "execution_count": null,
   "id": "3d116538",
   "metadata": {},
   "outputs": [],
   "source": []
  }
 ],
 "metadata": {
  "kernelspec": {
   "display_name": "Python 3 (ipykernel)",
   "language": "python",
   "name": "python3"
  },
  "language_info": {
   "codemirror_mode": {
    "name": "ipython",
    "version": 3
   },
   "file_extension": ".py",
   "mimetype": "text/x-python",
   "name": "python",
   "nbconvert_exporter": "python",
   "pygments_lexer": "ipython3",
   "version": "3.9.7"
  }
 },
 "nbformat": 4,
 "nbformat_minor": 5
}
